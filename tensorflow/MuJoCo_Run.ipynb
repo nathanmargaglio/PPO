{
 "cells": [
  {
   "cell_type": "code",
   "execution_count": 1,
   "metadata": {},
   "outputs": [
    {
     "name": "stderr",
     "output_type": "stream",
     "text": [
      "/home/nathan/anaconda3/lib/python3.6/site-packages/h5py/__init__.py:36: FutureWarning: Conversion of the second argument of issubdtype from `float` to `np.floating` is deprecated. In future, it will be treated as `np.float64 == np.dtype(float).type`.\n",
      "  from ._conv import register_converters as _register_converters\n"
     ]
    }
   ],
   "source": [
    "#!/usr/bin/env python3\n",
    "import numpy as np\n",
    "import gym\n",
    "import os\n",
    "import io\n",
    "import base64\n",
    "import multiprocessing\n",
    "\n",
    "import matplotlib.pyplot as plt\n",
    "from matplotlib import animation, rc\n",
    "from IPython.display import HTML\n",
    "import time\n",
    "from IPython import display\n",
    "%matplotlib inline\n",
    "\n",
    "from stable_baselines.common.cmd_util import mujoco_arg_parser\n",
    "from stable_baselines import bench, logger\n",
    "from stable_baselines.common import set_global_seeds\n",
    "from stable_baselines.common.vec_env.vec_normalize import VecNormalize\n",
    "from stable_baselines.ppo2 import PPO2\n",
    "from stable_baselines.common.policies import MlpPolicy\n",
    "from stable_baselines.common.vec_env.dummy_vec_env import DummyVecEnv\n",
    "from stable_baselines.common.vec_env.subproc_vec_env import SubprocVecEnv\n",
    "\n",
    "def get_newest_model(env_id):\n",
    "    dir_name = 'models_{}/'.format(env_id)\n",
    "    files = os.listdir(dir_name)\n",
    "    return max([dir_name + f for f in files], key=os.path.getctime)"
   ]
  },
  {
   "cell_type": "code",
   "execution_count": 6,
   "metadata": {},
   "outputs": [],
   "source": [
    "env.venv.envs[0]._get_viewer('rgb_array').cam.trackbodyid = 1"
   ]
  },
  {
   "cell_type": "code",
   "execution_count": null,
   "metadata": {},
   "outputs": [],
   "source": [
    "trackbodyid = 0"
   ]
  },
  {
   "cell_type": "code",
   "execution_count": null,
   "metadata": {
    "scrolled": true
   },
   "outputs": [
    {
     "name": "stdout",
     "output_type": "stream",
     "text": [
      "Loading a model without an environment, this model cannot be trained until it has a valid environment.\n",
      "Running trained model\n"
     ]
    }
   ],
   "source": [
    "#env_id='HalfCheetah-v2'\n",
    "env_id='Ant-v2'\n",
    "seed=123\n",
    "load_model = True\n",
    "\n",
    "#env = gym.make(env_id)\n",
    "\n",
    "from gym.envs.mujoco.ant import AntEnv\n",
    "\n",
    "class AntEnvMod(AntEnv):\n",
    "    \n",
    "    def __init__(self):\n",
    "        super(AntEnv, self).__init__('ant.xml', 5)\n",
    "        self._get_viewer('rgb_array').cam.distance = self.model.stat.extent * 0.5\n",
    "        self.max_zoom = self.model.stat.extent * 2.\n",
    "        \n",
    "    def update_view(self):\n",
    "        cam = self._get_viewer('rgb_array').cam\n",
    "        x, y, z = self.get_body_com('torso')\n",
    "        self._get_viewer('rgb_array').cam.lookat[0] = x\n",
    "        self._get_viewer('rgb_array').cam.lookat[1] = y\n",
    "        self._get_viewer('rgb_array').cam.lookat[2] = z\n",
    "        if self._get_viewer('rgb_array').cam.distance < self.max_zoom:\n",
    "            self._get_viewer('rgb_array').cam.distance *= 1.05\n",
    "        \n",
    "env = AntEnvMod()\n",
    "env = DummyVecEnv([lambda: env])\n",
    "env = VecNormalize(env)\n",
    "\n",
    "if load_model:\n",
    "    model = PPO2.load(\"model_{}\".format(env_id))\n",
    "else:\n",
    "    policy = MlpPolicy\n",
    "    model = PPO2(policy=policy, env=env, n_steps=2048, nminibatches=32, lam=0.95, gamma=0.99, noptepochs=10,\n",
    "                 ent_coef=0.0, learning_rate=3e-4, cliprange=0.2, verbose=1, tensorboard_log='./{}/'.format(env_id))\n",
    "\n",
    "\n",
    "logger.log(\"Running trained model\")\n",
    "obs = np.zeros((env.num_envs,) + env.observation_space.shape)\n",
    "obs[:] = env.reset()\n",
    "\n",
    "total_reward = 0\n",
    "count = 0\n",
    "frames = []\n",
    "while True:\n",
    "    actions = model.step(obs)[0]\n",
    "    #obs[:] = env.step(actions)[0]\n",
    "    \n",
    "    obs[:], reward, done, info = env.step(actions)\n",
    "    total_reward += reward\n",
    "    \n",
    "    #d = env.venv.envs[0].env.sim.render(500,500)\n",
    "    d = env.venv.envs[0].sim.render(500,500) # for custom env\n",
    "    env.venv.envs[0].update_view()\n",
    "    #plt.imshow(d, origin='lower')\n",
    "    #plt.show()\n",
    "    frames.append(d)\n",
    "        \n",
    "    count += 1\n",
    "    if done.any():\n",
    "        print(\"Reward:\", total_reward)\n",
    "        print(\"Iters :\", count)\n",
    "        break"
   ]
  },
  {
   "cell_type": "code",
   "execution_count": null,
   "metadata": {
    "scrolled": true
   },
   "outputs": [],
   "source": [
    "fig, ax = plt.subplots()\n",
    "plt.axis('off')\n",
    "l = ax.imshow(frames[0], origin='lower')\n",
    "\n",
    "def animate(i):\n",
    "    l.set_data(frames[i])\n",
    "\n",
    "ani = animation.FuncAnimation(fig, animate, frames=len(frames), interval=50, repeat_delay=1000)\n",
    "\n",
    "ani.save('{}.mp4'.format(env_id))\n",
    "\n",
    "video = io.open('{}.mp4'.format(env_id), 'r+b').read()\n",
    "encoded = base64.b64encode(video)\n",
    "HTML(data='''<video alt=\"test\" controls>\n",
    "                <source src=\"data:video/mp4;base64,{0}\" type=\"video/mp4\" />\n",
    "             </video>'''.format(encoded.decode('ascii')))"
   ]
  },
  {
   "cell_type": "code",
   "execution_count": null,
   "metadata": {},
   "outputs": [],
   "source": []
  }
 ],
 "metadata": {
  "kernelspec": {
   "display_name": "Python 3",
   "language": "python",
   "name": "python3"
  },
  "language_info": {
   "codemirror_mode": {
    "name": "ipython",
    "version": 3
   },
   "file_extension": ".py",
   "mimetype": "text/x-python",
   "name": "python",
   "nbconvert_exporter": "python",
   "pygments_lexer": "ipython3",
   "version": "3.6.4"
  }
 },
 "nbformat": 4,
 "nbformat_minor": 2
}
