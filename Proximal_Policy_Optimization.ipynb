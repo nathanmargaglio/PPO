{
  "cells": [
    {
      "cell_type": "markdown",
      "source": [
        "# Proximal Policy Optimization\n",
        "\n",
        "Adapted from https://github.com/nathanmargaglio/Proximal-Policy-Optimization\n",
        "\n",
        "You'll get some warnings, and I'm sure there's bugs, but you should be able to run this, end to end, in less than 5 minutes on Google Colab and see reasonable results."
      ],
      "metadata": {
        "id": "GkqHsypHvuJj"
      }
    },
    {
      "cell_type": "code",
      "source": [
        "!pip install gymnasium"
      ],
      "metadata": {
        "colab": {
          "base_uri": "https://localhost:8080/"
        },
        "id": "Zkgq3wt-zsz4",
        "outputId": "d17de142-990b-402b-c0cc-9403aba595b4"
      },
      "execution_count": 2,
      "outputs": [
        {
          "output_type": "stream",
          "name": "stdout",
          "text": [
            "Collecting gymnasium\n",
            "  Downloading gymnasium-0.29.1-py3-none-any.whl (953 kB)\n",
            "\u001b[2K     \u001b[90m━━━━━━━━━━━━━━━━━━━━━━━━━━━━━━━━━━━━━━━━\u001b[0m \u001b[32m953.9/953.9 kB\u001b[0m \u001b[31m6.4 MB/s\u001b[0m eta \u001b[36m0:00:00\u001b[0m\n",
            "\u001b[?25hRequirement already satisfied: numpy>=1.21.0 in /usr/local/lib/python3.10/dist-packages (from gymnasium) (1.25.2)\n",
            "Requirement already satisfied: cloudpickle>=1.2.0 in /usr/local/lib/python3.10/dist-packages (from gymnasium) (2.2.1)\n",
            "Requirement already satisfied: typing-extensions>=4.3.0 in /usr/local/lib/python3.10/dist-packages (from gymnasium) (4.10.0)\n",
            "Collecting farama-notifications>=0.0.1 (from gymnasium)\n",
            "  Downloading Farama_Notifications-0.0.4-py3-none-any.whl (2.5 kB)\n",
            "Installing collected packages: farama-notifications, gymnasium\n",
            "Successfully installed farama-notifications-0.0.4 gymnasium-0.29.1\n"
          ]
        }
      ]
    },
    {
      "cell_type": "code",
      "source": [
        "import torch\n",
        "from torch import nn\n",
        "import numpy as np\n",
        "import pandas as pd\n",
        "import matplotlib.pyplot as plt\n",
        "import gymnasium as gym"
      ],
      "metadata": {
        "id": "A19S3tFuviSZ"
      },
      "execution_count": 3,
      "outputs": []
    },
    {
      "cell_type": "markdown",
      "metadata": {
        "id": "IpPpIMMAud3C"
      },
      "source": [
        "# Advantage Actor-Critic\n",
        "\n",
        "To start, we'll implement a basic A2C agent to test and compare to our PPO agent."
      ]
    },
    {
      "cell_type": "code",
      "source": [
        "# helper function to convert numpy arrays to tensors\n",
        "def t(x): return torch.from_numpy(x).float()\n",
        "\n",
        "class Actor(nn.Module):\n",
        "    def __init__(self, state_dim, n_actions, hidden_size=128):\n",
        "        super().__init__()\n",
        "        self.model = nn.Sequential(\n",
        "            nn.Linear(state_dim, hidden_size),\n",
        "            nn.Tanh(),\n",
        "            nn.Linear(hidden_size, hidden_size//2),\n",
        "            nn.Tanh(),\n",
        "            nn.Linear(hidden_size//2, n_actions),\n",
        "            nn.Softmax(dim=-1)\n",
        "        )\n",
        "\n",
        "    def forward(self, X):\n",
        "        return self.model(X)\n",
        "\n",
        "class Critic(nn.Module):\n",
        "    def __init__(self, state_dim, hidden_size=128):\n",
        "        super().__init__()\n",
        "        self.model = nn.Sequential(\n",
        "            nn.Linear(state_dim, hidden_size),\n",
        "            nn.ReLU(),\n",
        "            nn.Linear(hidden_size, hidden_size//2),\n",
        "            nn.ReLU(),\n",
        "            nn.Linear(hidden_size//2, 1)\n",
        "        )\n",
        "\n",
        "    def forward(self, X):\n",
        "        return self.model(X)"
      ],
      "metadata": {
        "id": "3-1Fs4BCw_jB"
      },
      "execution_count": 4,
      "outputs": []
    },
    {
      "cell_type": "code",
      "execution_count": 24,
      "metadata": {
        "id": "2AtCod2Mud3C",
        "outputId": "63b892dc-2ba7-4af0-b495-63bac712c504",
        "colab": {
          "base_uri": "https://localhost:8080/"
        }
      },
      "outputs": [
        {
          "output_type": "stream",
          "name": "stdout",
          "text": []
        }
      ],
      "source": [
        "env = gym.make(\"CartPole-v1\")\n",
        "\n",
        "state_dim = env.observation_space.shape[0]\n",
        "n_actions = env.action_space.n\n",
        "\n",
        "actor = Actor(state_dim, n_actions)\n",
        "critic = Critic(state_dim)\n",
        "\n",
        "adam_actor = torch.optim.Adam(actor.parameters(), lr=1e-3)\n",
        "adam_critic = torch.optim.Adam(critic.parameters(), lr=1e-3)\n",
        "gamma = 0.99\n",
        "\n",
        "episode_rewards = []\n",
        "\n",
        "for episode_idx in range(100):\n",
        "    print(f\"Running episode {episode_idx}\", end=\"\\r\")\n",
        "    done = False\n",
        "    total_reward = 0\n",
        "    observation, info = env.reset()\n",
        "\n",
        "    while not done:\n",
        "        probs = actor(t(observation))\n",
        "        dist = torch.distributions.Categorical(probs=probs)\n",
        "        action = dist.sample()\n",
        "\n",
        "        next_observation, reward, done, truncated, info = env.step(action.detach().data.numpy())\n",
        "        advantage = reward + (1-done)*gamma*critic(t(next_observation)) - critic(t(observation))\n",
        "\n",
        "        total_reward += reward\n",
        "        observation = next_observation\n",
        "\n",
        "        critic_loss = advantage.pow(2).mean()\n",
        "        adam_critic.zero_grad()\n",
        "        critic_loss.backward()\n",
        "        adam_critic.step()\n",
        "\n",
        "        actor_loss = -dist.log_prob(action)*advantage.detach()\n",
        "        adam_actor.zero_grad()\n",
        "        actor_loss.backward()\n",
        "        adam_actor.step()\n",
        "\n",
        "    episode_rewards.append(total_reward)"
      ]
    },
    {
      "cell_type": "code",
      "execution_count": 25,
      "metadata": {
        "id": "YUYp4_dZud3D",
        "outputId": "7d0bbd60-5c10-4aad-c3bf-e64dc1e578d1",
        "colab": {
          "base_uri": "https://localhost:8080/",
          "height": 472
        }
      },
      "outputs": [
        {
          "output_type": "display_data",
          "data": {
            "text/plain": [
              "<Figure size 640x480 with 1 Axes>"
            ],
            "image/png": "[encoded data removed]"
          },
          "metadata": {}
        }
      ],
      "source": [
        "plt.scatter(np.arange(len(episode_rewards)), episode_rewards, s=2)\n",
        "plt.title(\"Total reward per episode (online)\")\n",
        "plt.ylabel(\"reward\")\n",
        "plt.xlabel(\"episode\")\n",
        "plt.show()"
      ]
    },
    {
      "cell_type": "markdown",
      "metadata": {
        "id": "CpybumrTud3E"
      },
      "source": [
        "## PPO Agent\n",
        "\n",
        "Here we implement the agent code for [PPO](https://arxiv.org/abs/1707.06347)."
      ]
    },
    {
      "cell_type": "code",
      "execution_count": 26,
      "metadata": {
        "id": "uBldpCoaud3A"
      },
      "outputs": [],
      "source": [
        "class Agent:\n",
        "    def __init__(self, n_obs, n_actions,\n",
        "                epsilon=0.2, gamma=0.99, entropy_loss=1e-3, actor_lr=0.001, critic_lr=0.005,\n",
        "                hidden_size=128, epochs=10, batch_size=64, buffer_size=128, debug=False):\n",
        "        self.n_obs = n_obs\n",
        "        self.n_actions = n_actions\n",
        "        self.debug = debug\n",
        "\n",
        "        # Set hyperparameters\n",
        "        self.epsilon = epsilon\n",
        "        self.gamma = gamma\n",
        "        self.entropy_loss = entropy_loss\n",
        "        self.actor_lr = actor_lr\n",
        "        self.critic_lr = critic_lr\n",
        "        self.hidden_size = hidden_size\n",
        "        self.epochs = epochs\n",
        "        self.batch_size = batch_size\n",
        "        self.buffer_size = buffer_size\n",
        "\n",
        "        # Build Actor and Critic models\n",
        "        self.actor = Actor(self.n_obs, self.n_actions, self.hidden_size)\n",
        "        self.critic = Critic(self.n_obs, self.hidden_size)\n",
        "\n",
        "        # Create Optimizers\n",
        "        self.actor_optimizer = torch.optim.Adam(self.actor.parameters(), lr=self.actor_lr)\n",
        "        self.critic_optimizer = torch.optim.Adam(self.critic.parameters(), lr=self.critic_lr)\n",
        "\n",
        "    def ppo_loss(self, y_true, y_pred, advantage, old_pred, debug=False):\n",
        "        # Defines the PPO loss to be used during actor optimization\n",
        "\n",
        "        # advantage is a vector of size 1 passed in from the critic\n",
        "        # This summing flattens it\n",
        "        adv = torch.sum(advantage, dim=1).detach()\n",
        "        if debug: print('advantage     :', adv)\n",
        "\n",
        "        # y_true is one-hot vector denoting the action taken\n",
        "        # y_pred is the output of the actor neural network\n",
        "        # for the given observation\n",
        "        # e.g., y_true = [0,1,0], y_pred = [0.2, 0.5, 0.3]\n",
        "        # so prob = y_true * y_pred = [0, 0.5, 0]\n",
        "        prob = t(y_true) * y_pred\n",
        "        if debug: print('prob          :', prob)\n",
        "\n",
        "        # old_pred is the actor's previous probabilty distribution\n",
        "        # for the given observation\n",
        "        # e.g., y_true = [0,1,0], old_pred = [0.2, 0.4, 0.4]\n",
        "        # so prob = y_true * old_pred = [0, 0.4, 0]\n",
        "        old_prob = t(y_true) * t(old_pred)\n",
        "        if debug: print('old_prob      :', old_prob)\n",
        "\n",
        "        # r is the ratio of the old probability to the new one\n",
        "        # e.g., r = prob/old_prob = [0, 0.5/0.4, 0]\n",
        "        r = torch.sum(prob/(old_prob + 1e-10), dim=1)\n",
        "        if debug: print('r             :', r)\n",
        "\n",
        "        # clipped is the value of r clipped between 1 +/- epsilon\n",
        "        # e.g., r = 1.4, epsilon = 0.2 => clipped = 1.2\n",
        "        clipped = torch.clamp(r, min=1-self.epsilon, max=1+self.epsilon)\n",
        "        if debug: print('clipped       :', clipped)\n",
        "\n",
        "        # minimum is the min of r * advantage and clipped * advantage\n",
        "        minimum = torch.min(r * adv, clipped * adv)\n",
        "        if debug: print('minimum       :', minimum)\n",
        "\n",
        "        # entropy bonus (to encourage exploration)\n",
        "        entropy_bonus = self.entropy_loss * (prob * torch.log(prob + 1e-10))\n",
        "        entropy_bonus = torch.sum(entropy_bonus, dim=1)\n",
        "        if debug: print('entropy_bonus :', entropy_bonus)\n",
        "\n",
        "        # computes the mean over all dimensions (left with a scaler)\n",
        "        result = -torch.mean(minimum + entropy_bonus)\n",
        "        if debug: print('result        :', result)\n",
        "\n",
        "        return result\n",
        "\n",
        "    def get_action(self, observation):\n",
        "        # Predict the probability destribution of the actions as a vactor\n",
        "        obs = observation#.reshape(1, self.n_obs)\n",
        "        # print('o', obs)\n",
        "        # print('s', obs.shape)\n",
        "\n",
        "        probs = self.actor(t(obs)).detach()\n",
        "        dist = torch.distributions.Categorical(probs=probs)\n",
        "        action = dist.sample().detach().numpy()\n",
        "\n",
        "        # Vectorize the action as a one-hot encoding\n",
        "        action_vector = np.zeros(self.n_actions)\n",
        "        action_vector[action] = 1\n",
        "\n",
        "        return action, action_vector, probs.numpy()\n",
        "\n",
        "    def train_batch(self, observations, actions, probabilities, rewards):\n",
        "        # limit our data to the buffer_size\n",
        "        obs = observations[:self.buffer_size]\n",
        "        acts = actions[:self.buffer_size]\n",
        "        probs = probabilities[:self.buffer_size]\n",
        "        rews = rewards[:self.buffer_size]\n",
        "\n",
        "        # our 'old probs' are really just the batches probs\n",
        "        old_probs = probs\n",
        "\n",
        "        # Calculate advantages\n",
        "        values = self.critic(t(obs))\n",
        "        advs = t(rews) - values\n",
        "\n",
        "        # Train the actor and critic on the batch data\n",
        "        for epoch in range(self.epochs):\n",
        "            # TODO: batching\n",
        "            actor_loss = self.ppo_loss(acts, self.actor(t(obs)), advs, old_probs)\n",
        "            self.actor_optimizer.zero_grad()\n",
        "            actor_loss.backward()\n",
        "            self.actor_optimizer.step()\n",
        "\n",
        "            y_pred_critic = self.critic(t(obs))\n",
        "            critic_loss = torch.nn.MSELoss(reduction='sum')(\n",
        "                y_pred_critic, t(rews)\n",
        "            )\n",
        "            self.critic_optimizer.zero_grad()\n",
        "            critic_loss.backward()\n",
        "            self.critic_optimizer.step()\n",
        "\n",
        "    def run(self, env, episodes, verbose=False):\n",
        "        episode = 0\n",
        "        reward_history = []\n",
        "\n",
        "        # reset the environment\n",
        "        observation, info = env.reset()\n",
        "\n",
        "        # Collect a batch of samples\n",
        "        while episode < episodes:\n",
        "            # 'Master Batch' that we add mini batches to\n",
        "            batch = {\n",
        "                'observation': [],\n",
        "                'action_vector': [],\n",
        "                'probability': [],\n",
        "                'reward': []\n",
        "            }\n",
        "\n",
        "            # Mini batch which contains a single episode's data\n",
        "            tmp_batch = {\n",
        "                'observation': [],\n",
        "                'action_vector': [],\n",
        "                'probability': [],\n",
        "                'reward': []\n",
        "            }\n",
        "\n",
        "            # While we don't hit the buffer size with our master batch...\n",
        "            while len(batch['observation']) < self.buffer_size:\n",
        "                # Get the action (scalar), action vector (one-hot vector),\n",
        "                # and probability distribution (vector) from the current observation\n",
        "                action, action_vector, prob = self.get_action(observation)\n",
        "\n",
        "                # Get the next observation, reward, done, and info for taking an action\n",
        "                next_observation, reward, done, truncated, info = env.step(action)\n",
        "\n",
        "                # Append the data to the mini batch\n",
        "                tmp_batch['observation'].append(observation)\n",
        "                tmp_batch['action_vector'].append(action_vector)\n",
        "                tmp_batch['probability'].append(prob)\n",
        "                tmp_batch['reward'].append(reward)\n",
        "\n",
        "                # The current observation is now the 'next' observation\n",
        "                observation = next_observation\n",
        "\n",
        "                # if the episode is at a terminal state...\n",
        "                if done:\n",
        "                    # log some reward data (for plotting)\n",
        "                    reward_data = np.sum(tmp_batch['reward'])\n",
        "                    reward_history.append(reward_data)\n",
        "\n",
        "                    # transform rewards based to discounted cumulative rewards\n",
        "                    for j in range(len(tmp_batch['reward']) - 2, -1, -1):\n",
        "                        tmp_batch['reward'][j] += tmp_batch['reward'][j + 1] * self.gamma\n",
        "\n",
        "                    # for each entry in the mini batch...\n",
        "                    for i in range(len(tmp_batch['observation'])):\n",
        "                        # we unpack the data\n",
        "                        obs = tmp_batch['observation'][i]\n",
        "                        act = tmp_batch['action_vector'][i]\n",
        "                        prob = tmp_batch['probability'][i]\n",
        "                        r = tmp_batch['reward'][i]\n",
        "\n",
        "                        # and pack it into the master batch\n",
        "                        batch['observation'].append(obs)\n",
        "                        batch['action_vector'].append(act)\n",
        "                        batch['probability'].append(prob)\n",
        "                        batch['reward'].append(r)\n",
        "\n",
        "                    # reset the environment\n",
        "                    observation, info = env.reset()\n",
        "\n",
        "                    # reset the mini batch\n",
        "                    tmp_batch = {\n",
        "                        'observation': [],\n",
        "                        'action_vector': [],\n",
        "                        'probability': [],\n",
        "                        'reward': []\n",
        "                    }\n",
        "\n",
        "                    # increment the episode count\n",
        "                    episode += 1\n",
        "\n",
        "            # we've filled up our master batch, so we unpack it into numpy arrays\n",
        "            observations = np.array(batch['observation'])\n",
        "            actions = np.array(batch['action_vector'])\n",
        "            probabilities = np.array(batch['probability'])\n",
        "            rewards = np.array(batch['reward'])\n",
        "            rewards = np.reshape(rewards, (len(batch['reward']), 1))\n",
        "\n",
        "            # train the agent on the batched data\n",
        "            self.train_batch(observations, actions, probabilities, rewards)\n",
        "\n",
        "            # every 10th episode, log some stuff\n",
        "            if (episode % 10 == 0 or episode == episodes - 1) and verbose:\n",
        "                print('Episode:', episode)\n",
        "                print('Reward :', reward_data)\n",
        "                print('Average:', np.mean(reward_history[-100:]))\n",
        "                print('-'*10)\n",
        "                print()\n",
        "\n",
        "        self.reward_history = reward_history\n",
        "        return self.reward_history"
      ]
    },
    {
      "cell_type": "code",
      "source": [
        "env = gym.make(\"CartPole-v1\")\n",
        "\n",
        "state_dim = env.observation_space.shape[0]\n",
        "n_actions = env.action_space.n\n",
        "\n",
        "agent = Agent(n_actions=n_actions, n_obs=state_dim)\n",
        "\n",
        "episode_rewards = agent.run(env, 100)"
      ],
      "metadata": {
        "id": "ciHZdfKA2l4U"
      },
      "execution_count": 27,
      "outputs": []
    },
    {
      "cell_type": "code",
      "source": [
        "plt.scatter(np.arange(len(episode_rewards)), episode_rewards, s=2)\n",
        "plt.title(\"Total reward per episode (online)\")\n",
        "plt.ylabel(\"reward\")\n",
        "plt.xlabel(\"episode\")\n",
        "plt.show()"
      ],
      "metadata": {
        "colab": {
          "base_uri": "https://localhost:8080/",
          "height": 472
        },
        "id": "X0NRFcdr3CVP",
        "outputId": "65c61523-115e-4a92-9695-32e255c747ae"
      },
      "execution_count": 28,
      "outputs": [
        {
          "output_type": "display_data",
          "data": {
            "text/plain": [
              "<Figure size 640x480 with 1 Axes>"
            ],
            "image/png": "[encoded data removed]"
          },
          "metadata": {}
        }
      ]
    },
    {
      "cell_type": "code",
      "source": [],
      "metadata": {
        "id": "U4EKYX_F8kNN"
      },
      "execution_count": null,
      "outputs": []
    }
  ],
  "metadata": {
    "kernelspec": {
      "display_name": "Python 3",
      "language": "python",
      "name": "python3"
    },
    "language_info": {
      "codemirror_mode": {
        "name": "ipython",
        "version": 3
      },
      "file_extension": ".py",
      "mimetype": "text/x-python",
      "name": "python",
      "nbconvert_exporter": "python",
      "pygments_lexer": "ipython3",
      "version": "3.6.11"
    },
    "colab": {
      "provenance": []
    }
  },
  "nbformat": 4,
  "nbformat_minor": 0
}