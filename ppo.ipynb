{
 "cells": [
  {
   "cell_type": "code",
   "execution_count": 7,
   "metadata": {},
   "outputs": [],
   "source": [
    "import numpy as np\n",
    "import pandas as pd\n",
    "import matplotlib.pyplot as plt\n",
    "\n",
    "import gym\n",
    "import torch\n",
    "from torch import nn\n",
    "\n",
    "# helper function to convert numpy arrays to tensors\n",
    "def t(x): return torch.from_numpy(x).float()"
   ]
  },
  {
   "cell_type": "markdown",
   "metadata": {},
   "source": [
    "#### Test Environment\n",
    "\n",
    "In order to test this algorithm, we've created a very simple environment that should be easy for a working agent to solve. This isn't necessary for the PPO implementation, and is only used for testing."
   ]
  },
  {
   "cell_type": "code",
   "execution_count": 3,
   "metadata": {},
   "outputs": [],
   "source": [
    "class Environment:\n",
    "    \"\"\" This is a very simple custom environment used for debugging and testing.\n",
    "    The observation at timestep t is sin(2*t*pi/20)\n",
    "    The agent starts at position 0\n",
    "    The action space is one of 3 discrete moves:\n",
    "        0: add 0.25 to the agent's position\n",
    "        1: subtract 0.25 from the agent's position\n",
    "        2: don't do anything\n",
    "    \n",
    "    The agent is rewarded +1 if, after moving, it's position at timestep t is within\n",
    "    a distance of 0.25 from the observation.\n",
    "    The agent is punished with -1 if, after moving, it's position is outside\n",
    "    a distance of 0.5 from the observation.\n",
    "    Otherwise, a reward of 0 is given.\n",
    "    \n",
    "    The environment terminates when the step hits max_steps (default 20)\n",
    "    \"\"\"\n",
    "    def __init__(self):\n",
    "        self.n_actions = 3\n",
    "        self.n_obs = 2\n",
    "        self.max_steps = 20\n",
    "        self.space = np.sin(np.linspace(0,2*np.pi,self.max_steps))\n",
    "        \n",
    "    def reset(self):\n",
    "        self.x = 0\n",
    "        self.target = self.space[self.x]\n",
    "        self.agent = self.space[self.x]\n",
    "        self.state = [self.target, self.agent]\n",
    "        \n",
    "        self.x_data = []\n",
    "        self.target_data = []\n",
    "        self.agent_data = []\n",
    "        return np.array(self.state)\n",
    "    \n",
    "    def step(self, action):\n",
    "        self.x += 1\n",
    "        self.target = self.space[self.x]\n",
    "        if action == 0:\n",
    "            pass\n",
    "        if action == 1:\n",
    "            self.agent += 0.25\n",
    "        if action == 2:\n",
    "            self.agent -= 0.25\n",
    "            \n",
    "        self.state = [self.target, self.agent]\n",
    "        \n",
    "        dist = abs(self.target - self.agent)\n",
    "        reward = 0\n",
    "        if dist < 0.25:\n",
    "            reward = 1.\n",
    "        if dist > 0.5:\n",
    "            reward = -1.\n",
    "            \n",
    "        done = False\n",
    "        if self.x >= self.max_steps - 1:\n",
    "            done = True\n",
    "            \n",
    "        self.x_data.append(self.x)\n",
    "        self.target_data.append(self.target)\n",
    "        self.agent_data.append(self.agent)\n",
    "            \n",
    "        return np.array(self.state), reward, done, {}\n",
    "    \n",
    "    def get_render_data(self):\n",
    "        return self.x_data, self.target_data, self.agent_data\n",
    "    \n",
    "    def render(self):\n",
    "        plt.plot(self.x_data, self.target_data, '.')\n",
    "        plt.plot(self.x_data, self.agent_data, '.')\n",
    "        plt.show()"
   ]
  },
  {
   "cell_type": "markdown",
   "metadata": {},
   "source": [
    "# Actor-Critic"
   ]
  },
  {
   "cell_type": "code",
   "execution_count": 62,
   "metadata": {},
   "outputs": [],
   "source": [
    "class Actor(nn.Module):\n",
    "    def __init__(self, state_dim, n_actions, hidden_size=128):\n",
    "        super().__init__()\n",
    "        self.model = nn.Sequential(\n",
    "            nn.Linear(state_dim, hidden_size),\n",
    "            nn.Tanh(),\n",
    "            nn.Linear(hidden_size, hidden_size//2),\n",
    "            nn.Tanh(),\n",
    "            nn.Linear(hidden_size//2, n_actions),\n",
    "            nn.Softmax(dim=-1)\n",
    "        )\n",
    "    \n",
    "    def forward(self, X):\n",
    "        return self.model(X)\n",
    "    \n",
    "class Critic(nn.Module):\n",
    "    def __init__(self, state_dim, hidden_size=128):\n",
    "        super().__init__()\n",
    "        self.model = nn.Sequential(\n",
    "            nn.Linear(state_dim, hidden_size),\n",
    "            nn.ReLU(),\n",
    "            nn.Linear(hidden_size, hidden_size//2),\n",
    "            nn.ReLU(),\n",
    "            nn.Linear(hidden_size//2, 1)\n",
    "        )\n",
    "    \n",
    "    def forward(self, X):\n",
    "        return self.model(X)"
   ]
  },
  {
   "cell_type": "code",
   "execution_count": 5,
   "metadata": {},
   "outputs": [],
   "source": [
    "env = gym.make(\"CartPole-v1\")"
   ]
  },
  {
   "cell_type": "code",
   "execution_count": 8,
   "metadata": {},
   "outputs": [],
   "source": [
    "state_dim = env.observation_space.shape[0]\n",
    "n_actions = env.action_space.n\n",
    "\n",
    "actor = Actor(state_dim, n_actions)\n",
    "critic = Critic(state_dim)\n",
    "\n",
    "adam_actor = torch.optim.Adam(actor.parameters(), lr=1e-3)\n",
    "adam_critic = torch.optim.Adam(critic.parameters(), lr=1e-3)\n",
    "gamma = 0.99"
   ]
  },
  {
   "cell_type": "code",
   "execution_count": 9,
   "metadata": {},
   "outputs": [
    {
     "name": "stderr",
     "output_type": "stream",
     "text": [
      "/opt/conda/lib/python3.6/site-packages/torch/nn/modules/container.py:117: UserWarning: Implicit dimension choice for softmax has been deprecated. Change the call to include dim=X as an argument.\n",
      "  input = module(input)\n"
     ]
    }
   ],
   "source": [
    "episode_rewards = []\n",
    "\n",
    "for i in range(500):\n",
    "    done = False\n",
    "    total_reward = 0\n",
    "    state = env.reset()\n",
    "\n",
    "\n",
    "    while not done:\n",
    "        probs = actor(t(state))\n",
    "        dist = torch.distributions.Categorical(probs=probs)\n",
    "        action = dist.sample()\n",
    "        \n",
    "        next_state, reward, done, info = env.step(action.detach().data.numpy())\n",
    "        advantage = reward + (1-done)*gamma*critic(t(next_state)) - critic(t(state))\n",
    "        \n",
    "        total_reward += reward\n",
    "        state = next_state\n",
    "\n",
    "        critic_loss = advantage.pow(2).mean()\n",
    "        adam_critic.zero_grad()\n",
    "        critic_loss.backward()\n",
    "        adam_critic.step()\n",
    "\n",
    "        actor_loss = -dist.log_prob(action)*advantage.detach()\n",
    "        adam_actor.zero_grad()\n",
    "        actor_loss.backward()\n",
    "        adam_actor.step()\n",
    "            \n",
    "    episode_rewards.append(total_reward)"
   ]
  },
  {
   "cell_type": "code",
   "execution_count": 10,
   "metadata": {},
   "outputs": [
    {
     "data": {
      "image/png": "[encoded data removed]",
      "text/plain": [
       "<Figure size 432x288 with 1 Axes>"
      ]
     },
     "metadata": {
      "needs_background": "light"
     },
     "output_type": "display_data"
    }
   ],
   "source": [
    "plt.scatter(np.arange(len(episode_rewards)), episode_rewards, s=2)\n",
    "plt.title(\"Total reward per episode (online)\")\n",
    "plt.ylabel(\"reward\")\n",
    "plt.xlabel(\"episode\")\n",
    "plt.show()"
   ]
  },
  {
   "cell_type": "markdown",
   "metadata": {},
   "source": [
    "## PPO Agent"
   ]
  },
  {
   "cell_type": "code",
   "execution_count": 156,
   "metadata": {},
   "outputs": [],
   "source": [
    "class Agent:\n",
    "    def __init__(self, n_obs, n_actions,\n",
    "                epsilon=0.2, gamma=0.99, entropy_loss=1e-3, actor_lr=0.001, critic_lr=0.005,\n",
    "                hidden_size=128, epochs=10, batch_size=64, buffer_size=128, debug=False):\n",
    "        self.n_obs = n_obs\n",
    "        self.n_actions = n_actions\n",
    "        self.debug = debug\n",
    "        \n",
    "        # Set hyperparameters\n",
    "        self.epsilon = epsilon\n",
    "        self.gamma = gamma\n",
    "        self.entropy_loss = entropy_loss\n",
    "        self.actor_lr = actor_lr\n",
    "        self.critic_lr = critic_lr\n",
    "        self.hidden_size = hidden_size\n",
    "        self.epochs = epochs\n",
    "        self.batch_size = batch_size\n",
    "        self.buffer_size = buffer_size\n",
    "        \n",
    "        # Build Actor and Critic models\n",
    "        self.actor = Actor(self.n_obs, self.n_actions, self.hidden_size)\n",
    "        self.critic = Critic(self.n_obs, self.hidden_size)\n",
    "        \n",
    "        # Create Optimizers\n",
    "        self.actor_optimizer = torch.optim.Adam(self.actor.parameters(), lr=self.actor_lr)\n",
    "        self.critic_optimizer = torch.optim.Adam(self.critic.parameters(), lr=self.critic_lr)\n",
    "        \n",
    "        # When we want predictions of actions, we need to pass in three things:\n",
    "        # the observation, the old prob, and the advantage.\n",
    "        # Here, we just created data to spoof the last two.\n",
    "        self.DUMMY_ACTION, self.DUMMY_VALUE = np.zeros((1, self.n_actions)), np.zeros((1, 1))\n",
    "    \n",
    "    def ppo_loss(self, y_true, y_pred, advantage, old_pred, debug=False):\n",
    "        # Defines the PPO loss to be used during actor optimization\n",
    "\n",
    "        # advantage is a vector of size 1 passed in from the critic\n",
    "        # This summing flattens it\n",
    "        adv = torch.sum(advantage, dim=1).detach()\n",
    "        if debug: print('advantage     :', adv)\n",
    "\n",
    "        # y_true is one-hot vector denoting the action taken\n",
    "        # y_pred is the output of the actor neural network\n",
    "        # for the given observation\n",
    "        # e.g., y_true = [0,1,0], y_pred = [0.2, 0.5, 0.3]\n",
    "        # so prob = y_true * y_pred = [0, 0.5, 0]\n",
    "        prob = t(y_true) * y_pred\n",
    "        if debug: print('prob          :', prob)\n",
    "\n",
    "        # old_pred is the actor's previous probabilty distribution\n",
    "        # for the given observation\n",
    "        # e.g., y_true = [0,1,0], old_pred = [0.2, 0.4, 0.4]\n",
    "        # so prob = y_true * old_pred = [0, 0.4, 0]\n",
    "        old_prob = t(y_true) * t(old_pred)\n",
    "        if debug: print('old_prob      :', old_prob)\n",
    "\n",
    "        # r is the ratio of the old probability to the new one\n",
    "        # e.g., r = prob/old_prob = [0, 0.5/0.4, 0]\n",
    "        r = torch.sum(prob/(old_prob + 1e-10), dim=1)\n",
    "        if debug: print('r             :', r)\n",
    "\n",
    "        # clipped is the value of r clipped between 1 +/- epsilon\n",
    "        # e.g., r = 1.4, epsilon = 0.2 => clipped = 1.2\n",
    "        clipped = torch.clamp(r, min=1-self.epsilon, max=1+self.epsilon)\n",
    "        if debug: print('clipped       :', clipped)\n",
    "\n",
    "        # minimum is the min of r * advantage and clipped * advantage\n",
    "        minimum = torch.min(r * adv, clipped * adv)\n",
    "        if debug: print('minimum       :', minimum)\n",
    "\n",
    "        # entropy bonus (to encourage exploration)\n",
    "        entropy_bonus = self.entropy_loss * (prob * torch.log(prob + 1e-10))\n",
    "        entropy_bonus = torch.sum(entropy_bonus, dim=1)\n",
    "        if debug: print('entropy_bonus :', entropy_bonus)\n",
    "\n",
    "        # computes the mean over all dimensions (left with a scaler)\n",
    "        result = -torch.mean(minimum + entropy_bonus)\n",
    "        if debug: print('result        :', result)\n",
    "\n",
    "        return result\n",
    "    \n",
    "    def get_action(self, observation):\n",
    "        # Predict the probability destribution of the actions as a vactor\n",
    "        obs = observation#.reshape(1, self.n_obs)\n",
    "        # print('o', obs)\n",
    "        # print('s', obs.shape)\n",
    "            \n",
    "        probs = self.actor(t(obs)).detach()\n",
    "        dist = torch.distributions.Categorical(probs=probs)\n",
    "        action = dist.sample().detach().numpy()\n",
    "        \n",
    "        # Vectorize the action as a one-hot encoding\n",
    "        action_vector = np.zeros(self.n_actions)\n",
    "        action_vector[action] = 1\n",
    "        \n",
    "        return action, action_vector, probs.numpy()\n",
    "    \n",
    "    def train_batch(self, observations, actions, probabilities, rewards):\n",
    "        # limit our data to the buffer_size\n",
    "        obs = observations[:self.buffer_size]\n",
    "        acts = actions[:self.buffer_size]\n",
    "        probs = probabilities[:self.buffer_size]\n",
    "        rews = rewards[:self.buffer_size]\n",
    "        \n",
    "        # our 'old probs' are really just the batches probs\n",
    "        old_probs = probs\n",
    "        \n",
    "        # Calculate advantages\n",
    "        values = self.critic(t(obs))\n",
    "        advs = t(rews) - values\n",
    "            \n",
    "        # Train the actor and critic on the batch data\n",
    "        for epoch in range(self.epochs):\n",
    "            # TODO: batching\n",
    "            actor_loss = self.ppo_loss(acts, self.actor(t(obs)), advs, old_probs)\n",
    "            self.actor_optimizer.zero_grad()\n",
    "            actor_loss.backward()\n",
    "            self.actor_optimizer.step()\n",
    "            \n",
    "            y_pred_critic = self.critic(t(obs))\n",
    "            critic_loss = torch.nn.MSELoss(reduction='sum')(\n",
    "                y_pred_critic, t(rews)\n",
    "            )\n",
    "            self.critic_optimizer.zero_grad()\n",
    "            critic_loss.backward()\n",
    "            self.critic_optimizer.step()\n",
    "    \n",
    "    def run(self, env, episodes, verbose=False):\n",
    "        episode = 0\n",
    "        reward_history = []\n",
    "\n",
    "        # reset the environment\n",
    "        observation = env.reset()\n",
    "\n",
    "        # Collect a batch of samples\n",
    "        while episode < episodes:\n",
    "            # 'Master Batch' that we add mini batches to\n",
    "            batch = {\n",
    "                'observation': [],\n",
    "                'action_vector': [],\n",
    "                'probability': [],\n",
    "                'reward': []\n",
    "            }\n",
    "\n",
    "            # Mini batch which contains a single episode's data\n",
    "            tmp_batch = {\n",
    "                'observation': [],\n",
    "                'action_vector': [],\n",
    "                'probability': [],\n",
    "                'reward': []\n",
    "            }\n",
    "\n",
    "            # While we don't hit the buffer size with our master batch...\n",
    "            while len(batch['observation']) < self.buffer_size:\n",
    "                # Get the action (scalar), action vector (one-hot vector), \n",
    "                # and probability distribution (vector) from the current observation\n",
    "                action, action_vector, prob = self.get_action(observation)\n",
    "\n",
    "                # Get the next observation, reward, done, and info for taking an action\n",
    "                next_observation, reward, done, info = env.step(action)\n",
    "\n",
    "                # Append the data to the mini batch\n",
    "                tmp_batch['observation'].append(observation)\n",
    "                tmp_batch['action_vector'].append(action_vector)\n",
    "                tmp_batch['probability'].append(prob)\n",
    "                tmp_batch['reward'].append(reward)\n",
    "\n",
    "                # The current observation is now the 'next' observation\n",
    "                observation = next_observation\n",
    "\n",
    "                # if the episode is at a terminal state...\n",
    "                if done:\n",
    "                    # log some reward data (for plotting)\n",
    "                    reward_data = np.sum(tmp_batch['reward'])\n",
    "                    reward_history.append(reward_data)\n",
    "\n",
    "                    # transform rewards based to discounted cumulative rewards\n",
    "                    for j in range(len(tmp_batch['reward']) - 2, -1, -1):\n",
    "                        tmp_batch['reward'][j] += tmp_batch['reward'][j + 1] * self.gamma\n",
    "\n",
    "                    # for each entry in the mini batch...\n",
    "                    for i in range(len(tmp_batch['observation'])):\n",
    "                        # we unpack the data\n",
    "                        obs = tmp_batch['observation'][i]\n",
    "                        act = tmp_batch['action_vector'][i]\n",
    "                        prob = tmp_batch['probability'][i]\n",
    "                        r = tmp_batch['reward'][i]\n",
    "\n",
    "                        # and pack it into the master batch\n",
    "                        batch['observation'].append(obs)\n",
    "                        batch['action_vector'].append(act)\n",
    "                        batch['probability'].append(prob)\n",
    "                        batch['reward'].append(r)\n",
    "\n",
    "                    # if we're using my custom environment,\n",
    "                    # we record some more data for plotting\n",
    "                    try:\n",
    "                        x_data, target_data, agent_data = env.get_render_data()\n",
    "                    except:\n",
    "                        pass\n",
    "\n",
    "                    # reset the environment\n",
    "                    observation = env.reset()\n",
    "\n",
    "                    # reset the mini batch\n",
    "                    tmp_batch = {\n",
    "                        'observation': [],\n",
    "                        'action_vector': [],\n",
    "                        'probability': [],\n",
    "                        'reward': []\n",
    "                    }\n",
    "\n",
    "                    # increment the episode count\n",
    "                    episode += 1\n",
    "\n",
    "            # we've filled up our master batch, so we unpack it into numpy arrays\n",
    "            observations = np.array(batch['observation'])\n",
    "            actions = np.array(batch['action_vector'])\n",
    "            probabilities = np.array(batch['probability'])\n",
    "            rewards = np.array(batch['reward'])    \n",
    "            rewards = np.reshape(rewards, (len(batch['reward']), 1))\n",
    "\n",
    "            # train the agent on the batched data\n",
    "            self.train_batch(observations, actions, probabilities, rewards)\n",
    "\n",
    "            # every 10th episode, log some stuff\n",
    "            if (episode % 10 == 0 or episode == episodes - 1) and verbose:\n",
    "                print('Episode:', episode)\n",
    "                print('Reward :', reward_data)\n",
    "                print('Average:', np.mean(reward_history[-100:]))\n",
    "                print('-'*10)\n",
    "                print()\n",
    "                \n",
    "                try:\n",
    "                    plt.plot(x_data, target_data, '.')\n",
    "                    plt.plot(x_data, agent_data, '.')\n",
    "                    plt.show()\n",
    "                except:\n",
    "                    pass\n",
    "                    \n",
    "        self.reward_history = reward_history\n",
    "        return self.reward_history"
   ]
  },
  {
   "cell_type": "code",
   "execution_count": 160,
   "metadata": {},
   "outputs": [
    {
     "data": {
      "text/plain": [
       "<AxesSubplot:>"
      ]
     },
     "execution_count": 160,
     "metadata": {},
     "output_type": "execute_result"
    },
    {
     "data": {
      "image/png": "[encoded data removed]",
      "text/plain": [
       "<Figure size 432x288 with 1 Axes>"
      ]
     },
     "metadata": {
      "needs_background": "light"
     },
     "output_type": "display_data"
    }
   ],
   "source": [
    "env = Environment()\n",
    "NUM_OBS = env.n_obs\n",
    "NUM_ACTS = env.n_actions\n",
    "\n",
    "agent = Agent(n_actions=NUM_ACTS, n_obs=NUM_OBS)\n",
    "rh = agent.run(env, 500, verbose=False)\n",
    "\n",
    "pd.Series(rh).plot()"
   ]
  },
  {
   "cell_type": "code",
   "execution_count": 158,
   "metadata": {},
   "outputs": [
    {
     "name": "stdout",
     "output_type": "stream",
     "text": [
      "Session: 0\n",
      "Session: 1\n",
      "Session: 2\n"
     ]
    },
    {
     "data": {
      "text/plain": [
       "<AxesSubplot:>"
      ]
     },
     "execution_count": 158,
     "metadata": {},
     "output_type": "execute_result"
    },
    {
     "data": {
      "image/png": "[encoded data removed]",
      "text/plain": [
       "<Figure size 432x288 with 1 Axes>"
      ]
     },
     "metadata": {
      "needs_background": "light"
     },
     "output_type": "display_data"
    }
   ],
   "source": [
    "env = Environment()\n",
    "NUM_OBS = env.n_obs\n",
    "NUM_ACTS = env.n_actions\n",
    "\n",
    "rhs = []\n",
    "for i in range(3):\n",
    "    print(\"Session:\", i)\n",
    "    agent = Agent(n_actions=NUM_ACTS, n_obs=NUM_OBS)\n",
    "    rh = agent.run(env, 500)\n",
    "    rhs.append(pd.Series(rh))\n",
    "        \n",
    "pd.concat(rhs, axis=1).mean(axis=1).plot()"
   ]
  },
  {
   "cell_type": "code",
   "execution_count": 159,
   "metadata": {},
   "outputs": [
    {
     "name": "stdout",
     "output_type": "stream",
     "text": [
      "Session: 0\n",
      "Session: 1\n",
      "Session: 2\n"
     ]
    },
    {
     "data": {
      "text/plain": [
       "<AxesSubplot:>"
      ]
     },
     "execution_count": 159,
     "metadata": {},
     "output_type": "execute_result"
    },
    {
     "data": {
      "image/png": "[encoded data removed]",
      "text/plain": [
       "<Figure size 432x288 with 1 Axes>"
      ]
     },
     "metadata": {
      "needs_background": "light"
     },
     "output_type": "display_data"
    }
   ],
   "source": [
    "env_names = ['CartPole-v1', 'LunarLander-v2','Acrobot-v1', 'MountainCar-v0']\n",
    "env = gym.make(env_names[0])\n",
    "NUM_OBS = env.observation_space.shape[0]\n",
    "NUM_ACTS = env.action_space.n\n",
    "\n",
    "rhs = []\n",
    "for i in range(3):\n",
    "    print(\"Session:\", i)\n",
    "    agent = Agent(n_actions=NUM_ACTS, n_obs=NUM_OBS)\n",
    "    rh = agent.run(env, 500)\n",
    "    rhs.append(pd.Series(rh))\n",
    "        \n",
    "pd.concat(rhs, axis=1).mean(axis=1).plot()"
   ]
  },
  {
   "cell_type": "code",
   "execution_count": null,
   "metadata": {},
   "outputs": [],
   "source": []
  }
 ],
 "metadata": {
  "kernelspec": {
   "display_name": "Python 3",
   "language": "python",
   "name": "python3"
  },
  "language_info": {
   "codemirror_mode": {
    "name": "ipython",
    "version": 3
   },
   "file_extension": ".py",
   "mimetype": "text/x-python",
   "name": "python",
   "nbconvert_exporter": "python",
   "pygments_lexer": "ipython3",
   "version": "3.6.11"
  }
 },
 "nbformat": 4,
 "nbformat_minor": 4
}
