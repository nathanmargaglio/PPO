{
 "cells": [
  {
   "cell_type": "code",
   "execution_count": 1,
   "metadata": {},
   "outputs": [],
   "source": [
    "#!/usr/bin/env python3\n",
    "import numpy as np\n",
    "import gym\n",
    "import os\n",
    "\n",
    "import matplotlib.pyplot as plt\n",
    "import time\n",
    "from IPython import display\n",
    "%matplotlib notebook\n",
    "\n",
    "from stable_baselines.common.cmd_util import mujoco_arg_parser\n",
    "from stable_baselines import bench, logger\n",
    "from stable_baselines.common import set_global_seeds\n",
    "from stable_baselines.common.vec_env.vec_normalize import VecNormalize\n",
    "from stable_baselines.ppo2 import PPO2\n",
    "from stable_baselines.common.policies import MlpPolicy, MlpLstmPolicy\n",
    "from stable_baselines.common.vec_env.dummy_vec_env import DummyVecEnv\n",
    "from stable_baselines.common.vec_env.subproc_vec_env import SubprocVecEnv\n",
    "from stable_baselines.results_plotter import load_results, ts2xy\n",
    "\n",
    "\n",
    "def train(env_id, num_timesteps, seed):\n",
    "    \"\"\"\n",
    "    Train PPO2 model for Mujoco environment, for testing purposes\n",
    "    :param env_id: (str) the environment id string\n",
    "    :param num_timesteps: (int) the number of timesteps to run\n",
    "    :param seed: (int) Used to seed the random generator.\n",
    "    \"\"\"\n",
    "    def make_env(_env_id):\n",
    "        env_out = gym.make(_env_id)\n",
    "        env_out = bench.Monitor(env_out, log_dir, allow_early_resets=True)\n",
    "        return env_out\n",
    "    \n",
    "    #n_cpu = multiprocessing.cpu_count()\n",
    "    #env = SubprocVecEnv([lambda: make_env(env_id) for i in range(n_cpu)])\n",
    "\n",
    "    env = DummyVecEnv([lambda: make_env(env_id)])\n",
    "    env = VecNormalize(env)\n",
    "\n",
    "    def callback(_locals, _globals):\n",
    "        global n_steps, best_mean_reward\n",
    "        print(\"Step:\", n_steps)\n",
    "\n",
    "        if (n_steps + 1) % 100 == 0:\n",
    "            x, y = ts2xy(load_results(log_dir), 'timesteps')\n",
    "            if len(x) > 0:\n",
    "                mean_reward = np.mean(y[-100:])\n",
    "                print(x[-1], 'timesteps')\n",
    "                print(\"Best mean reward: {:.2f} - Last mean reward per episode: {:.2f}\".format(best_mean_reward, mean_reward))\n",
    "\n",
    "                if mean_reward > best_mean_reward:\n",
    "                    best_mean_reward = mean_reward\n",
    "                    # Example for saving best model\n",
    "                    print(\"Saving new best model\")\n",
    "                    _locals['self'].save(\"model_{}\".format(env_id))\n",
    "        n_steps += 1\n",
    "        return False\n",
    "\n",
    "    set_global_seeds(seed)\n",
    "    policy = MlpPolicy\n",
    "    model = PPO2(policy=policy, env=env, n_steps=2048, nminibatches=1, lam=0.95, gamma=0.99, noptepochs=10,\n",
    "                 ent_coef=0.0, learning_rate=3e-4, cliprange=0.2, verbose=1, tensorboard_log=log_dir)\n",
    "    model.learn(total_timesteps=num_timesteps, callback=callback)\n",
    "    model.save(\"model_{}\".format(env_id))\n",
    "\n",
    "    return model, env"
   ]
  },
  {
   "cell_type": "code",
   "execution_count": null,
   "metadata": {
    "scrolled": true
   },
   "outputs": [
    {
     "name": "stdout",
     "output_type": "stream",
     "text": [
      "Logging to /home/nathan/ppo_logs/Ant-v2-3\n",
      "Logging to /tmp/openai-2018-11-23-17-20-30-160616\n"
     ]
    }
   ],
   "source": [
    "env_id='Ant-v2'\n",
    "num_timesteps=20000000\n",
    "seed=343\n",
    "best_mean_reward, n_steps = -np.inf, 0\n",
    "\n",
    "base_dir = '/home/nathan/ppo_logs'\n",
    "prev = [f for f in os.listdir(base_dir) if env_id in f]\n",
    "log_dir = base_dir + '/{}-{}'.format(env_id, len(prev))\n",
    "os.makedirs(log_dir, exist_ok=True)\n",
    "\n",
    "print('Logging to {}'.format(log_dir))\n",
    "\n",
    "logger.configure()\n",
    "model, env = train(env_id, num_timesteps, seed)"
   ]
  },
  {
   "cell_type": "code",
   "execution_count": null,
   "metadata": {},
   "outputs": [],
   "source": []
  }
 ],
 "metadata": {
  "kernelspec": {
   "display_name": "Python 3",
   "language": "python",
   "name": "python3"
  },
  "language_info": {
   "codemirror_mode": {
    "name": "ipython",
    "version": 3
   },
   "file_extension": ".py",
   "mimetype": "text/x-python",
   "name": "python",
   "nbconvert_exporter": "python",
   "pygments_lexer": "ipython3",
   "version": "3.6.6"
  }
 },
 "nbformat": 4,
 "nbformat_minor": 2
}
